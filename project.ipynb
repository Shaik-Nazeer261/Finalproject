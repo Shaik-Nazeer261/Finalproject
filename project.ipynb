{
 "cells": [
  {
   "cell_type": "code",
   "execution_count": 2,
   "id": "8b437707",
   "metadata": {},
   "outputs": [],
   "source": [
    "import os\n",
    "import numpy as np\n",
    "import seaborn as sns\n",
    "import tensorflow as tf\n",
    "import matplotlib.pyplot as plt\n",
    "from skimage.transform import resize\n",
    "from sklearn.decomposition import PCA\n",
    "# import tensorflow_addons as tfa\n",
    "from sklearn.preprocessing import LabelEncoder\n",
    "from sklearn.model_selection import train_test_split\n",
    "from tensorflow.keras.layers import Input, Dense, Conv2D, MaxPooling2D, UpSampling2D, Flatten, Reshape, Concatenate,Dropout,Conv2DTranspose\n",
    "from tensorflow.keras.models import Model\n",
    "from tensorflow.keras.applications import VGG19\n",
    "from tensorflow.keras.optimizers import Adam\n",
    "from tensorflow.keras.preprocessing.image import img_to_array, load_img\n",
    "from sklearn.metrics import confusion_matrix, classification_report, roc_curve, auc, precision_recall_curve"
   ]
  },
  {
   "cell_type": "code",
   "execution_count": 3,
   "id": "79461391",
   "metadata": {},
   "outputs": [],
   "source": [
    "# Set the working directory\n",
    "WORKING_DIRECTORY = r\"C:\\Dataset\""
   ]
  },
  {
   "cell_type": "code",
   "execution_count": 4,
   "id": "ccc52fb4",
   "metadata": {},
   "outputs": [],
   "source": [
    "def load_and_preprocess_images(directory, target_size=(160, 160), grayscale=False):\n",
    "    images = []\n",
    "    labels = []\n",
    "    classes = os.listdir(directory)\n",
    "    for class_name in classes:\n",
    "        class_path = os.path.join(directory, class_name)\n",
    "        for image_name in os.listdir(class_path):\n",
    "            image_path = os.path.join(class_path, image_name)\n",
    "            if grayscale:\n",
    "                image = load_img(image_path, target_size=target_size, color_mode='grayscale')\n",
    "            else:\n",
    "                image = load_img(image_path, target_size=target_size)\n",
    "            image_array = img_to_array(image) / 255.0  # Rescale pixel values to [0, 1]\n",
    "            images.append(image_array)\n",
    "            labels.append(class_name)\n",
    "    return np.array(images), np.array(labels)\n"
   ]
  },
  {
   "cell_type": "code",
   "execution_count": 5,
   "id": "efa14355",
   "metadata": {},
   "outputs": [
    {
     "name": "stdout",
     "output_type": "stream",
     "text": [
      "Number of images: 554\n"
     ]
    }
   ],
   "source": [
    "X, y = load_and_preprocess_images(WORKING_DIRECTORY, grayscale=True)\n",
    "\n",
    "print(\"Number of images:\", len(X))\n"
   ]
  },
  {
   "cell_type": "code",
   "execution_count": 6,
   "id": "cd3232cb",
   "metadata": {},
   "outputs": [
    {
     "name": "stdout",
     "output_type": "stream",
     "text": [
      "(443, 160, 160)\n"
     ]
    }
   ],
   "source": [
    "# Split the data into training and testing sets\n",
    "X_train, X_test, y_train, y_test = train_test_split(X, y, test_size=0.2, random_state=42)\n",
    "X_train = np.squeeze(X_train)\n",
    "X_test = np.squeeze(X_test)\n",
    "print(X_train.shape)"
   ]
  },
  {
   "cell_type": "code",
   "execution_count": 7,
   "id": "d0f4f4ca",
   "metadata": {},
   "outputs": [],
   "source": [
    "def build_denoising_autoencoder(input_dim, encoding_dim):\n",
    "    # Encoder\n",
    "    noise=0.5\n",
    "    input_data = Input(shape=(input_dim,))\n",
    "    noisy_input = input_data + noise * tf.random.normal(tf.shape(input_data))\n",
    "    encoded = Dense(128, activation='relu')(noisy_input)\n",
    "    encoded = Dense(256, activation='relu')(encoded)\n",
    "    encoded = Dense(encoding_dim, activation='relu')(encoded)\n",
    "    \n",
    "    # Decoder\n",
    "    decoded = Dense(128, activation='relu')(encoded)\n",
    "    decoded = Dense(512, activation='relu')(decoded)\n",
    "    decoded = Dense(input_dim, activation='sigmoid')(decoded)\n",
    "    \n",
    "    # Autoencoder\n",
    "    autoencoder = Model(inputs=input_data, outputs=decoded)\n",
    "    return autoencoder"
   ]
  },
  {
   "cell_type": "code",
   "execution_count": 8,
   "id": "3f569d48",
   "metadata": {},
   "outputs": [],
   "source": [
    "# Define input and encoding dimensions\n",
    "input_dim = 160*160\n",
    "encoding_dim = 64"
   ]
  },
  {
   "cell_type": "code",
   "execution_count": 9,
   "id": "8d6e3944",
   "metadata": {},
   "outputs": [],
   "source": [
    "\n",
    "# Build the denoising autoencoder\n",
    "autoencoder = build_denoising_autoencoder(input_dim, encoding_dim)"
   ]
  },
  {
   "cell_type": "code",
   "execution_count": 10,
   "id": "d9a6f311",
   "metadata": {},
   "outputs": [],
   "source": [
    "# Compile the autoencoder with L2 regularization\n",
    "from tensorflow.keras.optimizers import Adam\n",
    "autoencoder.compile(optimizer=Adam(learning_rate=0.0001), loss='binary_crossentropy')"
   ]
  },
  {
   "cell_type": "code",
   "execution_count": 11,
   "id": "50bed81b",
   "metadata": {},
   "outputs": [
    {
     "name": "stdout",
     "output_type": "stream",
     "text": [
      "(443, 25600)\n"
     ]
    }
   ],
   "source": [
    "# Flatten the input data\n",
    "train_data_flat = X_train.reshape(X_train.shape[0], -1)\n",
    "test_data_flat = X_test.reshape(X_test.shape[0], -1)\n",
    "print(train_data_flat.shape)"
   ]
  },
  {
   "cell_type": "code",
   "execution_count": 12,
   "id": "89d6a8c2",
   "metadata": {},
   "outputs": [
    {
     "name": "stdout",
     "output_type": "stream",
     "text": [
      "Epoch 1/100\n",
      "12/12 [==============================] - 4s 208ms/step - loss: 0.6720 - val_loss: 0.5799\n",
      "Epoch 2/100\n",
      "12/12 [==============================] - 2s 176ms/step - loss: 0.4577 - val_loss: 0.3537\n",
      "Epoch 3/100\n",
      "12/12 [==============================] - 2s 172ms/step - loss: 0.3289 - val_loss: 0.3204\n",
      "Epoch 4/100\n",
      "12/12 [==============================] - 2s 171ms/step - loss: 0.3154 - val_loss: 0.3147\n",
      "Epoch 5/100\n",
      "12/12 [==============================] - 2s 160ms/step - loss: 0.3127 - val_loss: 0.3134\n",
      "Epoch 6/100\n",
      "12/12 [==============================] - 2s 160ms/step - loss: 0.3112 - val_loss: 0.3125\n",
      "Epoch 7/100\n",
      "12/12 [==============================] - 2s 166ms/step - loss: 0.3105 - val_loss: 0.3121\n",
      "Epoch 8/100\n",
      "12/12 [==============================] - 2s 164ms/step - loss: 0.3102 - val_loss: 0.3118\n",
      "Epoch 9/100\n",
      "12/12 [==============================] - 2s 158ms/step - loss: 0.3098 - val_loss: 0.3115\n",
      "Epoch 10/100\n",
      "12/12 [==============================] - 2s 168ms/step - loss: 0.3096 - val_loss: 0.3114\n",
      "Epoch 11/100\n",
      "12/12 [==============================] - 2s 176ms/step - loss: 0.3096 - val_loss: 0.3110\n",
      "Epoch 12/100\n",
      "12/12 [==============================] - 2s 164ms/step - loss: 0.3089 - val_loss: 0.3103\n",
      "Epoch 13/100\n",
      "12/12 [==============================] - 2s 160ms/step - loss: 0.3086 - val_loss: 0.3103\n",
      "Epoch 14/100\n",
      "12/12 [==============================] - 2s 161ms/step - loss: 0.3085 - val_loss: 0.3094\n",
      "Epoch 15/100\n",
      "12/12 [==============================] - 2s 158ms/step - loss: 0.3076 - val_loss: 0.3083\n",
      "Epoch 16/100\n",
      "12/12 [==============================] - 3s 228ms/step - loss: 0.3061 - val_loss: 0.3074\n",
      "Epoch 17/100\n",
      "12/12 [==============================] - 2s 170ms/step - loss: 0.3049 - val_loss: 0.3054\n",
      "Epoch 18/100\n",
      "12/12 [==============================] - 2s 174ms/step - loss: 0.3034 - val_loss: 0.3038\n",
      "Epoch 19/100\n",
      "12/12 [==============================] - 2s 175ms/step - loss: 0.3020 - val_loss: 0.3030\n",
      "Epoch 20/100\n",
      "12/12 [==============================] - 2s 189ms/step - loss: 0.3017 - val_loss: 0.3028\n",
      "Epoch 21/100\n",
      "12/12 [==============================] - 2s 200ms/step - loss: 0.3013 - val_loss: 0.3022\n",
      "Epoch 22/100\n",
      "12/12 [==============================] - 2s 184ms/step - loss: 0.3013 - val_loss: 0.3024\n",
      "Epoch 23/100\n",
      "12/12 [==============================] - 2s 180ms/step - loss: 0.3012 - val_loss: 0.3019\n",
      "Epoch 24/100\n",
      "12/12 [==============================] - 2s 177ms/step - loss: 0.3009 - val_loss: 0.3017\n",
      "Epoch 25/100\n",
      "12/12 [==============================] - 2s 165ms/step - loss: 0.3004 - val_loss: 0.3014\n",
      "Epoch 26/100\n",
      "12/12 [==============================] - 2s 167ms/step - loss: 0.2999 - val_loss: 0.3011\n",
      "Epoch 27/100\n",
      "12/12 [==============================] - 2s 166ms/step - loss: 0.2997 - val_loss: 0.3012\n",
      "Epoch 28/100\n",
      "12/12 [==============================] - 2s 163ms/step - loss: 0.2996 - val_loss: 0.3006\n",
      "Epoch 29/100\n",
      "12/12 [==============================] - 2s 170ms/step - loss: 0.2992 - val_loss: 0.3006\n",
      "Epoch 30/100\n",
      "12/12 [==============================] - 2s 167ms/step - loss: 0.2985 - val_loss: 0.2999\n",
      "Epoch 31/100\n",
      "12/12 [==============================] - 2s 167ms/step - loss: 0.2978 - val_loss: 0.3004\n",
      "Epoch 32/100\n",
      "12/12 [==============================] - 2s 168ms/step - loss: 0.2979 - val_loss: 0.2993\n",
      "Epoch 33/100\n",
      "12/12 [==============================] - 2s 168ms/step - loss: 0.2969 - val_loss: 0.2991\n",
      "Epoch 34/100\n",
      "12/12 [==============================] - 2s 164ms/step - loss: 0.2966 - val_loss: 0.2990\n",
      "Epoch 35/100\n",
      "12/12 [==============================] - 2s 164ms/step - loss: 0.2962 - val_loss: 0.2986\n",
      "Epoch 36/100\n",
      "12/12 [==============================] - 2s 180ms/step - loss: 0.2958 - val_loss: 0.2983\n",
      "Epoch 37/100\n",
      "12/12 [==============================] - 2s 189ms/step - loss: 0.2953 - val_loss: 0.2981\n",
      "Epoch 38/100\n",
      "12/12 [==============================] - 2s 190ms/step - loss: 0.2950 - val_loss: 0.2977\n",
      "Epoch 39/100\n",
      "12/12 [==============================] - 2s 178ms/step - loss: 0.2944 - val_loss: 0.2972\n",
      "Epoch 40/100\n",
      "12/12 [==============================] - 2s 177ms/step - loss: 0.2941 - val_loss: 0.2970\n",
      "Epoch 41/100\n",
      "12/12 [==============================] - 2s 176ms/step - loss: 0.2938 - val_loss: 0.2968\n",
      "Epoch 42/100\n",
      "12/12 [==============================] - 2s 188ms/step - loss: 0.2941 - val_loss: 0.2966\n",
      "Epoch 43/100\n",
      "12/12 [==============================] - 2s 186ms/step - loss: 0.2937 - val_loss: 0.2962\n",
      "Epoch 44/100\n",
      "12/12 [==============================] - 2s 173ms/step - loss: 0.2933 - val_loss: 0.2961\n",
      "Epoch 45/100\n",
      "12/12 [==============================] - 2s 198ms/step - loss: 0.2929 - val_loss: 0.2962\n",
      "Epoch 46/100\n",
      "12/12 [==============================] - 2s 170ms/step - loss: 0.2928 - val_loss: 0.2957\n",
      "Epoch 47/100\n",
      "12/12 [==============================] - 2s 164ms/step - loss: 0.2925 - val_loss: 0.2957\n",
      "Epoch 48/100\n",
      "12/12 [==============================] - 2s 170ms/step - loss: 0.2924 - val_loss: 0.2960\n",
      "Epoch 49/100\n",
      "12/12 [==============================] - 2s 165ms/step - loss: 0.2929 - val_loss: 0.2961\n",
      "Epoch 50/100\n",
      "12/12 [==============================] - 2s 167ms/step - loss: 0.2927 - val_loss: 0.2957\n",
      "Epoch 51/100\n",
      "12/12 [==============================] - 2s 165ms/step - loss: 0.2924 - val_loss: 0.2954\n",
      "Epoch 52/100\n",
      "12/12 [==============================] - 2s 172ms/step - loss: 0.2921 - val_loss: 0.2952\n",
      "Epoch 53/100\n",
      "12/12 [==============================] - 2s 189ms/step - loss: 0.2920 - val_loss: 0.2952\n",
      "Epoch 54/100\n",
      "12/12 [==============================] - 2s 181ms/step - loss: 0.2919 - val_loss: 0.2951\n",
      "Epoch 55/100\n",
      "12/12 [==============================] - 2s 176ms/step - loss: 0.2917 - val_loss: 0.2951\n",
      "Epoch 56/100\n",
      "12/12 [==============================] - 2s 185ms/step - loss: 0.2915 - val_loss: 0.2948\n",
      "Epoch 57/100\n",
      "12/12 [==============================] - 2s 170ms/step - loss: 0.2914 - val_loss: 0.2949\n",
      "Epoch 58/100\n",
      "12/12 [==============================] - 2s 165ms/step - loss: 0.2912 - val_loss: 0.2949\n",
      "Epoch 59/100\n",
      "12/12 [==============================] - 2s 177ms/step - loss: 0.2912 - val_loss: 0.2948\n",
      "Epoch 60/100\n",
      "12/12 [==============================] - 2s 186ms/step - loss: 0.2912 - val_loss: 0.2948\n",
      "Epoch 61/100\n",
      "12/12 [==============================] - 2s 179ms/step - loss: 0.2913 - val_loss: 0.2949\n",
      "Epoch 62/100\n",
      "12/12 [==============================] - 2s 191ms/step - loss: 0.2913 - val_loss: 0.2948\n",
      "Epoch 63/100\n",
      "12/12 [==============================] - 2s 175ms/step - loss: 0.2910 - val_loss: 0.2947\n",
      "Epoch 64/100\n",
      "12/12 [==============================] - 2s 182ms/step - loss: 0.2909 - val_loss: 0.2948\n",
      "Epoch 65/100\n",
      "12/12 [==============================] - 2s 183ms/step - loss: 0.2909 - val_loss: 0.2945\n",
      "Epoch 66/100\n",
      "12/12 [==============================] - 2s 179ms/step - loss: 0.2908 - val_loss: 0.2943\n",
      "Epoch 67/100\n",
      "12/12 [==============================] - 2s 171ms/step - loss: 0.2906 - val_loss: 0.2943\n",
      "Epoch 68/100\n",
      "12/12 [==============================] - 2s 172ms/step - loss: 0.2906 - val_loss: 0.2944\n",
      "Epoch 69/100\n",
      "12/12 [==============================] - 2s 172ms/step - loss: 0.2906 - val_loss: 0.2944\n",
      "Epoch 70/100\n",
      "12/12 [==============================] - 2s 173ms/step - loss: 0.2905 - val_loss: 0.2945\n",
      "Epoch 71/100\n",
      "12/12 [==============================] - 2s 179ms/step - loss: 0.2905 - val_loss: 0.2944\n",
      "Epoch 72/100\n",
      "12/12 [==============================] - 2s 175ms/step - loss: 0.2907 - val_loss: 0.2942\n",
      "Epoch 73/100\n",
      "12/12 [==============================] - 2s 167ms/step - loss: 0.2907 - val_loss: 0.2941\n",
      "Epoch 74/100\n",
      "12/12 [==============================] - 2s 172ms/step - loss: 0.2907 - val_loss: 0.2943\n",
      "Epoch 75/100\n",
      "12/12 [==============================] - 2s 172ms/step - loss: 0.2904 - val_loss: 0.2940\n",
      "Epoch 76/100\n",
      "12/12 [==============================] - 2s 177ms/step - loss: 0.2904 - val_loss: 0.2942\n",
      "Epoch 77/100\n",
      "12/12 [==============================] - 2s 171ms/step - loss: 0.2903 - val_loss: 0.2940\n",
      "Epoch 78/100\n",
      "12/12 [==============================] - 2s 170ms/step - loss: 0.2901 - val_loss: 0.2941\n",
      "Epoch 79/100\n",
      "12/12 [==============================] - 2s 189ms/step - loss: 0.2902 - val_loss: 0.2941\n",
      "Epoch 80/100\n",
      "12/12 [==============================] - 2s 177ms/step - loss: 0.2903 - val_loss: 0.2943\n",
      "Epoch 81/100\n",
      "12/12 [==============================] - 2s 180ms/step - loss: 0.2903 - val_loss: 0.2942\n",
      "Epoch 82/100\n",
      "12/12 [==============================] - 2s 177ms/step - loss: 0.2901 - val_loss: 0.2940\n",
      "Epoch 83/100\n",
      "12/12 [==============================] - 2s 181ms/step - loss: 0.2901 - val_loss: 0.2940\n",
      "Epoch 84/100\n",
      "12/12 [==============================] - 2s 178ms/step - loss: 0.2900 - val_loss: 0.2939\n",
      "Epoch 85/100\n",
      "12/12 [==============================] - 2s 177ms/step - loss: 0.2899 - val_loss: 0.2939\n",
      "Epoch 86/100\n",
      "12/12 [==============================] - 2s 166ms/step - loss: 0.2898 - val_loss: 0.2939\n",
      "Epoch 87/100\n",
      "12/12 [==============================] - 2s 167ms/step - loss: 0.2897 - val_loss: 0.2937\n",
      "Epoch 88/100\n",
      "12/12 [==============================] - 2s 174ms/step - loss: 0.2895 - val_loss: 0.2939\n",
      "Epoch 89/100\n",
      "12/12 [==============================] - 2s 167ms/step - loss: 0.2896 - val_loss: 0.2936\n",
      "Epoch 90/100\n",
      "12/12 [==============================] - 2s 170ms/step - loss: 0.2897 - val_loss: 0.2938\n",
      "Epoch 91/100\n",
      "12/12 [==============================] - 2s 173ms/step - loss: 0.2896 - val_loss: 0.2938\n",
      "Epoch 92/100\n",
      "12/12 [==============================] - 2s 167ms/step - loss: 0.2896 - val_loss: 0.2936\n",
      "Epoch 93/100\n",
      "12/12 [==============================] - 2s 174ms/step - loss: 0.2895 - val_loss: 0.2935\n",
      "Epoch 94/100\n",
      "12/12 [==============================] - 2s 177ms/step - loss: 0.2893 - val_loss: 0.2935\n",
      "Epoch 95/100\n",
      "12/12 [==============================] - 2s 192ms/step - loss: 0.2893 - val_loss: 0.2935\n",
      "Epoch 96/100\n",
      "12/12 [==============================] - 2s 177ms/step - loss: 0.2894 - val_loss: 0.2933\n",
      "Epoch 97/100\n",
      "12/12 [==============================] - 2s 182ms/step - loss: 0.2891 - val_loss: 0.2934\n",
      "Epoch 98/100\n",
      "12/12 [==============================] - 2s 167ms/step - loss: 0.2891 - val_loss: 0.2934\n",
      "Epoch 99/100\n",
      "12/12 [==============================] - 2s 183ms/step - loss: 0.2891 - val_loss: 0.2932\n",
      "Epoch 100/100\n",
      "12/12 [==============================] - 2s 182ms/step - loss: 0.2891 - val_loss: 0.2933\n"
     ]
    },
    {
     "data": {
      "text/plain": [
       "<keras.callbacks.History at 0x2096f7606a0>"
      ]
     },
     "execution_count": 12,
     "metadata": {},
     "output_type": "execute_result"
    }
   ],
   "source": [
    "# Train the denoising autoencoder\n",
    "autoencoder.fit(train_data_flat, train_data_flat, epochs=100, batch_size=32, shuffle=True, validation_split=0.2)\n"
   ]
  },
  {
   "cell_type": "code",
   "execution_count": 13,
   "id": "fd99fb66",
   "metadata": {},
   "outputs": [
    {
     "name": "stdout",
     "output_type": "stream",
     "text": [
      "encoded_features_train: (443, 64)\n",
      "encoded_features_test: (111, 64)\n"
     ]
    }
   ],
   "source": [
    "# Get the encoded features\n",
    "encoder = Model(inputs=autoencoder.input, outputs=autoencoder.layers[-4].output)\n",
    "encoded_features_train = encoder.predict(train_data_flat)\n",
    "encoded_features_test = encoder.predict(test_data_flat)\n",
    "print(\"encoded_features_train:\",encoded_features_train.shape)\n",
    "print(\"encoded_features_test:\",encoded_features_test.shape)"
   ]
  },
  {
   "cell_type": "code",
   "execution_count": 14,
   "id": "09990953",
   "metadata": {},
   "outputs": [],
   "source": [
    "features_train_reshaped = []\n",
    "for feature in X_train:\n",
    "    resized_feature = resize(feature, (229, 229, 3), anti_aliasing=True)\n",
    "    features_train_reshaped.append(resized_feature)\n",
    "features_train_reshaped = np.array(features_train_reshaped)\n",
    "\n",
    "features_test_reshaped = []\n",
    "for feature in X_test:\n",
    "    resized_feature = resize(feature, (229, 229, 3), anti_aliasing=True)\n",
    "    features_test_reshaped.append(resized_feature)\n",
    "features_test_reshaped = np.array(features_test_reshaped)"
   ]
  },
  {
   "cell_type": "code",
   "execution_count": 15,
   "id": "5469e811",
   "metadata": {},
   "outputs": [],
   "source": [
    "# Load pre-trained VGG19 model without the top layers\n",
    "base_model = VGG19(weights='imagenet', include_top=False, input_shape=(229, 229, 3))"
   ]
  },
  {
   "cell_type": "code",
   "execution_count": 16,
   "id": "c9b053a8",
   "metadata": {},
   "outputs": [
    {
     "name": "stdout",
     "output_type": "stream",
     "text": [
      "Model: \"vgg19\"\n",
      "_________________________________________________________________\n",
      " Layer (type)                Output Shape              Param #   \n",
      "=================================================================\n",
      " input_2 (InputLayer)        [(None, 229, 229, 3)]     0         \n",
      "                                                                 \n",
      " block1_conv1 (Conv2D)       (None, 229, 229, 64)      1792      \n",
      "                                                                 \n",
      " block1_conv2 (Conv2D)       (None, 229, 229, 64)      36928     \n",
      "                                                                 \n",
      " block1_pool (MaxPooling2D)  (None, 114, 114, 64)      0         \n",
      "                                                                 \n",
      " block2_conv1 (Conv2D)       (None, 114, 114, 128)     73856     \n",
      "                                                                 \n",
      " block2_conv2 (Conv2D)       (None, 114, 114, 128)     147584    \n",
      "                                                                 \n",
      " block2_pool (MaxPooling2D)  (None, 57, 57, 128)       0         \n",
      "                                                                 \n",
      " block3_conv1 (Conv2D)       (None, 57, 57, 256)       295168    \n",
      "                                                                 \n",
      " block3_conv2 (Conv2D)       (None, 57, 57, 256)       590080    \n",
      "                                                                 \n",
      " block3_conv3 (Conv2D)       (None, 57, 57, 256)       590080    \n",
      "                                                                 \n",
      " block3_conv4 (Conv2D)       (None, 57, 57, 256)       590080    \n",
      "                                                                 \n",
      " block3_pool (MaxPooling2D)  (None, 28, 28, 256)       0         \n",
      "                                                                 \n",
      " block4_conv1 (Conv2D)       (None, 28, 28, 512)       1180160   \n",
      "                                                                 \n",
      " block4_conv2 (Conv2D)       (None, 28, 28, 512)       2359808   \n",
      "                                                                 \n",
      " block4_conv3 (Conv2D)       (None, 28, 28, 512)       2359808   \n",
      "                                                                 \n",
      " block4_conv4 (Conv2D)       (None, 28, 28, 512)       2359808   \n",
      "                                                                 \n",
      " block4_pool (MaxPooling2D)  (None, 14, 14, 512)       0         \n",
      "                                                                 \n",
      " block5_conv1 (Conv2D)       (None, 14, 14, 512)       2359808   \n",
      "                                                                 \n",
      " block5_conv2 (Conv2D)       (None, 14, 14, 512)       2359808   \n",
      "                                                                 \n",
      " block5_conv3 (Conv2D)       (None, 14, 14, 512)       2359808   \n",
      "                                                                 \n",
      " block5_conv4 (Conv2D)       (None, 14, 14, 512)       2359808   \n",
      "                                                                 \n",
      " block5_pool (MaxPooling2D)  (None, 7, 7, 512)         0         \n",
      "                                                                 \n",
      "=================================================================\n",
      "Total params: 20,024,384\n",
      "Trainable params: 20,024,384\n",
      "Non-trainable params: 0\n",
      "_________________________________________________________________\n"
     ]
    }
   ],
   "source": [
    "base_model.summary()"
   ]
  },
  {
   "cell_type": "code",
   "execution_count": 17,
   "id": "7e658606",
   "metadata": {},
   "outputs": [],
   "source": [
    "# Extract features from VGG19\n",
    "X_train_features = base_model.predict(features_train_reshaped)\n",
    "X_test_features = base_model.predict(features_test_reshaped)"
   ]
  },
  {
   "cell_type": "code",
   "execution_count": 18,
   "id": "ffa3b054",
   "metadata": {},
   "outputs": [
    {
     "name": "stdout",
     "output_type": "stream",
     "text": [
      "(443, 7, 7, 512)\n"
     ]
    }
   ],
   "source": [
    "print(X_train_features.shape)"
   ]
  },
  {
   "cell_type": "code",
   "execution_count": 19,
   "id": "43e8556e",
   "metadata": {},
   "outputs": [],
   "source": [
    "# Flatten the extracted features\n",
    "X_train_features_flat = X_train_features.reshape(X_train_features.shape[0], -1)\n",
    "X_test_features_flat = X_test_features.reshape(X_test_features.shape[0], -1)"
   ]
  },
  {
   "cell_type": "code",
   "execution_count": 20,
   "id": "adab7ae1",
   "metadata": {},
   "outputs": [
    {
     "data": {
      "image/png": "[encoded data removed]",
      "text/plain": [
       "<Figure size 1200x600 with 1 Axes>"
      ]
     },
     "metadata": {},
     "output_type": "display_data"
    }
   ],
   "source": [
    "import matplotlib.pyplot as plt\n",
    "\n",
    "# Plot histograms of the features\n",
    "plt.figure(figsize=(12, 6))\n",
    "plt.hist(X_train_features_flat.flatten(), bins=50, alpha=0.7, label='Training Features', color='blue')\n",
    "plt.hist(X_test_features_flat.flatten(), bins=50, alpha=0.7, label='Testing Features', color='orange')\n",
    "plt.title('Distribution of Features Extracted from VGG19')\n",
    "plt.xlabel('Feature Value')\n",
    "plt.ylabel('Frequency')\n",
    "plt.legend()\n",
    "plt.grid(True)\n",
    "plt.show()\n"
   ]
  },
  {
   "cell_type": "code",
   "execution_count": 21,
   "id": "10ed6fb1",
   "metadata": {},
   "outputs": [
    {
     "name": "stdout",
     "output_type": "stream",
     "text": [
      "X_train_features: (443, 7, 7, 512)\n"
     ]
    }
   ],
   "source": [
    "print(\"X_train_features:\",X_train_features.shape)"
   ]
  },
  {
   "cell_type": "code",
   "execution_count": 22,
   "id": "000df9c9",
   "metadata": {},
   "outputs": [
    {
     "name": "stdout",
     "output_type": "stream",
     "text": [
      "Shape of X_train_features_flat: (443, 25088)\n",
      "Shape of encoded_features_train: (443, 64)\n"
     ]
    }
   ],
   "source": [
    "print(\"Shape of X_train_features_flat:\", X_train_features_flat.shape)\n",
    "print(\"Shape of encoded_features_train:\", encoded_features_train.shape)"
   ]
  },
  {
   "cell_type": "code",
   "execution_count": 23,
   "id": "1117c342",
   "metadata": {},
   "outputs": [],
   "source": [
    "# Combine features from VGG19 and autoencoder\n",
    "combined_features_train = np.concatenate((X_train_features_flat, encoded_features_train), axis=1)\n",
    "combined_features_test = np.concatenate((X_test_features_flat, encoded_features_test), axis=1)"
   ]
  },
  {
   "cell_type": "code",
   "execution_count": 24,
   "id": "2c171a56",
   "metadata": {},
   "outputs": [
    {
     "name": "stdout",
     "output_type": "stream",
     "text": [
      "Combined features shape for training set: (443, 25152)\n",
      "Combined features shape for testing set: (111, 25152)\n"
     ]
    }
   ],
   "source": [
    "print(\"Combined features shape for training set:\", combined_features_train.shape)\n",
    "print(\"Combined features shape for testing set:\", combined_features_test.shape)"
   ]
  },
  {
   "cell_type": "code",
   "execution_count": 25,
   "id": "8f1da2ea",
   "metadata": {},
   "outputs": [],
   "source": [
    "# Define the number of desired dimensions\n",
    "n_components = 128\n",
    "\n",
    "# Initialize PCA with the desired number of components\n",
    "pca = PCA(n_components=n_components)\n",
    "\n",
    "# Fit PCA to the combined features\n",
    "pca.fit(combined_features_train)\n",
    "\n",
    "# Transform the combined features using PCA\n",
    "combined_features_train_reduced = pca.transform(combined_features_train)\n",
    "combined_features_test_reduced = pca.transform(combined_features_test)"
   ]
  },
  {
   "cell_type": "code",
   "execution_count": 26,
   "id": "55e3b662",
   "metadata": {},
   "outputs": [
    {
     "name": "stdout",
     "output_type": "stream",
     "text": [
      "Shape of combined features after dimensionality reduction (train): (443, 128)\n",
      "Shape of combined features after dimensionality reduction (test): (111, 128)\n"
     ]
    }
   ],
   "source": [
    "print(\"Shape of combined features after dimensionality reduction (train):\", combined_features_train_reduced.shape)\n",
    "print(\"Shape of combined features after dimensionality reduction (test):\", combined_features_test_reduced.shape)"
   ]
  },
  {
   "cell_type": "code",
   "execution_count": 27,
   "id": "995f4ee2",
   "metadata": {},
   "outputs": [
    {
     "data": {
      "image/png": "[encoded data removed]",
      "text/plain": [
       "<Figure size 800x600 with 1 Axes>"
      ]
     },
     "metadata": {},
     "output_type": "display_data"
    }
   ],
   "source": [
    "# Create a scatter plot of the combined features\n",
    "plt.figure(figsize=(8, 6))\n",
    "plt.scatter(combined_features_train_reduced[:, 0], combined_features_train_reduced[:, 1], label='Training Set')\n",
    "plt.scatter(combined_features_test_reduced[:, 0], combined_features_test_reduced[:, 1], label='Testing Set')\n",
    "plt.title('Combined Features after Dimensionality Reduction (PCA)')\n",
    "plt.xlabel('Principal Component 1')\n",
    "plt.ylabel('Principal Component 2')\n",
    "plt.legend()\n",
    "plt.grid(True)\n",
    "plt.show()"
   ]
  },
  {
   "cell_type": "code",
   "execution_count": 28,
   "id": "34558834",
   "metadata": {},
   "outputs": [],
   "source": [
    "combined_features_train_reduced_reshaped = combined_features_train_reduced.reshape((-1, 8, 16, 1))\n",
    "combined_features_test_reduced_reshaped = combined_features_test_reduced.reshape((-1, 8, 16, 1))\n",
    "\n",
    "input_shape = combined_features_train_reduced_reshaped.shape[1:]\n",
    "num_classes = 3  # CN, MCI, AD"
   ]
  },
  {
   "cell_type": "code",
   "execution_count": 29,
   "id": "1df8c3c9",
   "metadata": {},
   "outputs": [
    {
     "name": "stdout",
     "output_type": "stream",
     "text": [
      "Shape of combined_features_train_reduced_reshaped: (443, 8, 16, 1)\n",
      "Input shape for UNet model: (8, 16, 1)\n"
     ]
    }
   ],
   "source": [
    "print(\"Shape of combined_features_train_reduced_reshaped:\", combined_features_train_reduced_reshaped.shape)\n",
    "print(\"Input shape for UNet model:\", input_shape)"
   ]
  },
  {
   "cell_type": "code",
   "execution_count": 30,
   "id": "246797a7",
   "metadata": {},
   "outputs": [],
   "source": [
    "def build_multiclass(input_shape):\n",
    "    inputs = Input(input_shape)\n",
    "    conv1 = Conv2D(64, (3, 3), activation='relu', padding='same')(inputs)\n",
    "    pool1 = MaxPooling2D(pool_size=(2, 2))(conv1)\n",
    "    pool1 = Dropout(0.25)(pool1)  # Add dropout after the pooling layer\n",
    "\n",
    "    conv2 = Conv2D(128, (3, 3), activation='relu', padding='same')(pool1)\n",
    "    pool2 = MaxPooling2D(pool_size=(2, 2))(conv2)\n",
    "    pool2 = Dropout(0.25)(pool2)  # Add dropout after the pooling layer\n",
    "\n",
    "    flat = Flatten()(pool2)\n",
    "    dense1 = Dense(256, activation='relu')(flat)\n",
    "    dense1 = Dropout(0.5)(dense1)  # Add dropout before the output layer\n",
    "\n",
    "    outputs = Dense(3, activation='softmax')(dense1)  # 3 classes in the output layer\n",
    "\n",
    "    model = Model(inputs=inputs, outputs=outputs)\n",
    "    return model\n"
   ]
  },
  {
   "cell_type": "code",
   "execution_count": 31,
   "id": "f85c097c",
   "metadata": {},
   "outputs": [],
   "source": [
    "# Build  model for multi-class classification\n",
    "model_multiclass = build_multiclass(input_shape)"
   ]
  },
  {
   "cell_type": "code",
   "execution_count": 32,
   "id": "d7c5572a",
   "metadata": {},
   "outputs": [
    {
     "name": "stdout",
     "output_type": "stream",
     "text": [
      "Model: \"model_2\"\n",
      "_________________________________________________________________\n",
      " Layer (type)                Output Shape              Param #   \n",
      "=================================================================\n",
      " input_3 (InputLayer)        [(None, 8, 16, 1)]        0         \n",
      "                                                                 \n",
      " conv2d (Conv2D)             (None, 8, 16, 64)         640       \n",
      "                                                                 \n",
      " max_pooling2d (MaxPooling2D  (None, 4, 8, 64)         0         \n",
      " )                                                               \n",
      "                                                                 \n",
      " dropout (Dropout)           (None, 4, 8, 64)          0         \n",
      "                                                                 \n",
      " conv2d_1 (Conv2D)           (None, 4, 8, 128)         73856     \n",
      "                                                                 \n",
      " max_pooling2d_1 (MaxPooling  (None, 2, 4, 128)        0         \n",
      " 2D)                                                             \n",
      "                                                                 \n",
      " dropout_1 (Dropout)         (None, 2, 4, 128)         0         \n",
      "                                                                 \n",
      " flatten (Flatten)           (None, 1024)              0         \n",
      "                                                                 \n",
      " dense_6 (Dense)             (None, 256)               262400    \n",
      "                                                                 \n",
      " dropout_2 (Dropout)         (None, 256)               0         \n",
      "                                                                 \n",
      " dense_7 (Dense)             (None, 3)                 771       \n",
      "                                                                 \n",
      "=================================================================\n",
      "Total params: 337,667\n",
      "Trainable params: 337,667\n",
      "Non-trainable params: 0\n",
      "_________________________________________________________________\n"
     ]
    }
   ],
   "source": [
    "model_multiclass.summary()"
   ]
  },
  {
   "cell_type": "code",
   "execution_count": 33,
   "id": "4024e56a",
   "metadata": {},
   "outputs": [],
   "source": [
    "# Compile the model\n",
    "model_multiclass.compile(optimizer=Adam(learning_rate=0.0001), loss='categorical_crossentropy', metrics=['accuracy'])"
   ]
  },
  {
   "cell_type": "code",
   "execution_count": 34,
   "id": "5236cccc",
   "metadata": {},
   "outputs": [],
   "source": [
    "# Convert labels to one-hot encoding\n",
    "label_encoder = LabelEncoder()\n",
    "y_train_encoded = label_encoder.fit_transform(y_train)\n",
    "y_test_encoded = label_encoder.transform(y_test)\n",
    "y_train_onehot = tf.keras.utils.to_categorical(y_train_encoded, num_classes=3)\n",
    "y_test_onehot = tf.keras.utils.to_categorical(y_test_encoded, num_classes=3)"
   ]
  },
  {
   "cell_type": "code",
   "execution_count": 35,
   "id": "c7572885",
   "metadata": {},
   "outputs": [
    {
     "name": "stdout",
     "output_type": "stream",
     "text": [
      "Epoch 1/200\n",
      "23/23 [==============================] - 1s 23ms/step - loss: 1.0850 - accuracy: 0.4520 - val_loss: 0.8776 - val_accuracy: 0.5955\n",
      "Epoch 2/200\n",
      "23/23 [==============================] - 0s 11ms/step - loss: 0.9575 - accuracy: 0.5339 - val_loss: 0.8125 - val_accuracy: 0.6404\n",
      "Epoch 3/200\n",
      "23/23 [==============================] - 0s 11ms/step - loss: 0.8888 - accuracy: 0.5395 - val_loss: 0.7852 - val_accuracy: 0.5843\n",
      "Epoch 4/200\n",
      "23/23 [==============================] - 0s 11ms/step - loss: 0.7999 - accuracy: 0.6356 - val_loss: 0.7398 - val_accuracy: 0.6404\n",
      "Epoch 5/200\n",
      "23/23 [==============================] - 0s 11ms/step - loss: 0.7858 - accuracy: 0.6638 - val_loss: 0.7207 - val_accuracy: 0.6854\n",
      "Epoch 6/200\n",
      "23/23 [==============================] - 0s 11ms/step - loss: 0.7446 - accuracy: 0.6554 - val_loss: 0.6909 - val_accuracy: 0.7191\n",
      "Epoch 7/200\n",
      "23/23 [==============================] - 0s 11ms/step - loss: 0.6799 - accuracy: 0.6977 - val_loss: 0.6687 - val_accuracy: 0.7079\n",
      "Epoch 8/200\n",
      "23/23 [==============================] - 0s 11ms/step - loss: 0.6920 - accuracy: 0.6921 - val_loss: 0.6723 - val_accuracy: 0.7079\n",
      "Epoch 9/200\n",
      "23/23 [==============================] - 0s 11ms/step - loss: 0.6513 - accuracy: 0.7147 - val_loss: 0.6402 - val_accuracy: 0.7191\n",
      "Epoch 10/200\n",
      "23/23 [==============================] - 0s 11ms/step - loss: 0.6552 - accuracy: 0.6921 - val_loss: 0.6150 - val_accuracy: 0.7191\n",
      "Epoch 11/200\n",
      "23/23 [==============================] - 0s 11ms/step - loss: 0.5829 - accuracy: 0.7486 - val_loss: 0.6007 - val_accuracy: 0.7416\n",
      "Epoch 12/200\n",
      "23/23 [==============================] - 0s 18ms/step - loss: 0.5726 - accuracy: 0.7655 - val_loss: 0.5950 - val_accuracy: 0.7303\n",
      "Epoch 13/200\n",
      "23/23 [==============================] - 0s 16ms/step - loss: 0.5791 - accuracy: 0.7627 - val_loss: 0.5767 - val_accuracy: 0.7528\n",
      "Epoch 14/200\n",
      "23/23 [==============================] - 0s 13ms/step - loss: 0.5534 - accuracy: 0.7684 - val_loss: 0.5825 - val_accuracy: 0.7191\n",
      "Epoch 15/200\n",
      "23/23 [==============================] - 0s 20ms/step - loss: 0.5421 - accuracy: 0.7542 - val_loss: 0.5474 - val_accuracy: 0.7753\n",
      "Epoch 16/200\n",
      "23/23 [==============================] - 0s 14ms/step - loss: 0.5068 - accuracy: 0.7938 - val_loss: 0.5354 - val_accuracy: 0.7753\n",
      "Epoch 17/200\n",
      "23/23 [==============================] - 1s 22ms/step - loss: 0.5649 - accuracy: 0.7514 - val_loss: 0.5324 - val_accuracy: 0.7865\n",
      "Epoch 18/200\n",
      "23/23 [==============================] - 0s 15ms/step - loss: 0.5308 - accuracy: 0.7486 - val_loss: 0.5179 - val_accuracy: 0.7865\n",
      "Epoch 19/200\n",
      "23/23 [==============================] - 0s 11ms/step - loss: 0.5111 - accuracy: 0.7599 - val_loss: 0.4931 - val_accuracy: 0.8090\n",
      "Epoch 20/200\n",
      "23/23 [==============================] - 0s 13ms/step - loss: 0.4653 - accuracy: 0.8079 - val_loss: 0.4935 - val_accuracy: 0.7865\n",
      "Epoch 21/200\n",
      "23/23 [==============================] - 0s 13ms/step - loss: 0.4442 - accuracy: 0.8136 - val_loss: 0.4976 - val_accuracy: 0.7640\n",
      "Epoch 22/200\n",
      "23/23 [==============================] - 0s 12ms/step - loss: 0.4790 - accuracy: 0.8107 - val_loss: 0.4754 - val_accuracy: 0.7978\n",
      "Epoch 23/200\n",
      "23/23 [==============================] - 0s 11ms/step - loss: 0.4448 - accuracy: 0.7966 - val_loss: 0.4617 - val_accuracy: 0.7978\n",
      "Epoch 24/200\n",
      "23/23 [==============================] - 0s 11ms/step - loss: 0.4665 - accuracy: 0.7797 - val_loss: 0.4342 - val_accuracy: 0.8315\n",
      "Epoch 25/200\n",
      "23/23 [==============================] - 0s 12ms/step - loss: 0.4325 - accuracy: 0.8220 - val_loss: 0.4288 - val_accuracy: 0.8315\n",
      "Epoch 26/200\n",
      "23/23 [==============================] - 0s 12ms/step - loss: 0.4196 - accuracy: 0.8418 - val_loss: 0.4242 - val_accuracy: 0.8652\n",
      "Epoch 27/200\n",
      "23/23 [==============================] - 0s 13ms/step - loss: 0.4063 - accuracy: 0.8164 - val_loss: 0.4227 - val_accuracy: 0.8539\n",
      "Epoch 28/200\n",
      "23/23 [==============================] - 0s 11ms/step - loss: 0.4068 - accuracy: 0.8277 - val_loss: 0.3973 - val_accuracy: 0.8652\n",
      "Epoch 29/200\n",
      "23/23 [==============================] - 0s 12ms/step - loss: 0.4122 - accuracy: 0.8277 - val_loss: 0.3939 - val_accuracy: 0.8652\n",
      "Epoch 30/200\n",
      "23/23 [==============================] - 0s 12ms/step - loss: 0.4101 - accuracy: 0.8192 - val_loss: 0.3934 - val_accuracy: 0.8764\n",
      "Epoch 31/200\n",
      "23/23 [==============================] - 0s 12ms/step - loss: 0.4082 - accuracy: 0.8277 - val_loss: 0.3894 - val_accuracy: 0.8876\n",
      "Epoch 32/200\n",
      "23/23 [==============================] - 0s 12ms/step - loss: 0.3735 - accuracy: 0.8559 - val_loss: 0.3817 - val_accuracy: 0.8876\n",
      "Epoch 33/200\n",
      "23/23 [==============================] - 0s 13ms/step - loss: 0.3604 - accuracy: 0.8475 - val_loss: 0.3782 - val_accuracy: 0.8764\n",
      "Epoch 34/200\n",
      "23/23 [==============================] - 0s 13ms/step - loss: 0.3565 - accuracy: 0.8644 - val_loss: 0.3505 - val_accuracy: 0.8876\n",
      "Epoch 35/200\n",
      "23/23 [==============================] - 0s 12ms/step - loss: 0.3399 - accuracy: 0.8644 - val_loss: 0.3437 - val_accuracy: 0.9213\n",
      "Epoch 36/200\n",
      "23/23 [==============================] - 0s 13ms/step - loss: 0.3600 - accuracy: 0.8644 - val_loss: 0.3549 - val_accuracy: 0.8989\n",
      "Epoch 37/200\n",
      "23/23 [==============================] - 0s 12ms/step - loss: 0.3552 - accuracy: 0.8701 - val_loss: 0.3388 - val_accuracy: 0.9213\n",
      "Epoch 38/200\n",
      "23/23 [==============================] - 0s 12ms/step - loss: 0.3473 - accuracy: 0.8503 - val_loss: 0.3465 - val_accuracy: 0.8876\n",
      "Epoch 39/200\n",
      "23/23 [==============================] - 0s 12ms/step - loss: 0.3224 - accuracy: 0.8785 - val_loss: 0.3239 - val_accuracy: 0.9213\n",
      "Epoch 40/200\n",
      "23/23 [==============================] - 0s 12ms/step - loss: 0.3157 - accuracy: 0.8701 - val_loss: 0.3283 - val_accuracy: 0.9101\n",
      "Epoch 41/200\n",
      "23/23 [==============================] - 0s 15ms/step - loss: 0.3124 - accuracy: 0.8588 - val_loss: 0.3230 - val_accuracy: 0.9101\n",
      "Epoch 42/200\n",
      "23/23 [==============================] - 0s 13ms/step - loss: 0.3430 - accuracy: 0.8757 - val_loss: 0.3123 - val_accuracy: 0.9213\n",
      "Epoch 43/200\n",
      "23/23 [==============================] - 0s 12ms/step - loss: 0.2930 - accuracy: 0.8898 - val_loss: 0.3098 - val_accuracy: 0.9213\n",
      "Epoch 44/200\n",
      "23/23 [==============================] - 0s 14ms/step - loss: 0.3210 - accuracy: 0.8842 - val_loss: 0.3209 - val_accuracy: 0.9213\n",
      "Epoch 45/200\n",
      "23/23 [==============================] - 0s 13ms/step - loss: 0.2813 - accuracy: 0.8955 - val_loss: 0.3001 - val_accuracy: 0.9326\n",
      "Epoch 46/200\n",
      "23/23 [==============================] - 0s 14ms/step - loss: 0.2702 - accuracy: 0.8955 - val_loss: 0.2992 - val_accuracy: 0.9213\n",
      "Epoch 47/200\n",
      "23/23 [==============================] - 0s 13ms/step - loss: 0.3180 - accuracy: 0.8701 - val_loss: 0.2956 - val_accuracy: 0.9213\n",
      "Epoch 48/200\n",
      "23/23 [==============================] - 0s 13ms/step - loss: 0.3091 - accuracy: 0.8672 - val_loss: 0.2904 - val_accuracy: 0.9326\n",
      "Epoch 49/200\n",
      "23/23 [==============================] - 0s 14ms/step - loss: 0.2611 - accuracy: 0.9124 - val_loss: 0.2891 - val_accuracy: 0.9326\n",
      "Epoch 50/200\n",
      "23/23 [==============================] - 0s 13ms/step - loss: 0.2166 - accuracy: 0.9153 - val_loss: 0.2753 - val_accuracy: 0.9326\n",
      "Epoch 51/200\n",
      "23/23 [==============================] - 0s 14ms/step - loss: 0.2435 - accuracy: 0.9040 - val_loss: 0.2678 - val_accuracy: 0.9326\n",
      "Epoch 52/200\n",
      "23/23 [==============================] - 0s 13ms/step - loss: 0.2463 - accuracy: 0.8927 - val_loss: 0.2867 - val_accuracy: 0.9101\n",
      "Epoch 53/200\n",
      "23/23 [==============================] - 0s 13ms/step - loss: 0.2652 - accuracy: 0.9040 - val_loss: 0.2872 - val_accuracy: 0.9213\n",
      "Epoch 54/200\n",
      "23/23 [==============================] - 0s 13ms/step - loss: 0.2287 - accuracy: 0.9153 - val_loss: 0.2741 - val_accuracy: 0.9213\n",
      "Epoch 55/200\n",
      "23/23 [==============================] - 0s 13ms/step - loss: 0.2527 - accuracy: 0.8955 - val_loss: 0.2788 - val_accuracy: 0.9213\n",
      "Epoch 56/200\n",
      "23/23 [==============================] - 0s 13ms/step - loss: 0.2342 - accuracy: 0.9124 - val_loss: 0.2583 - val_accuracy: 0.9213\n",
      "Epoch 57/200\n",
      "23/23 [==============================] - 0s 13ms/step - loss: 0.2282 - accuracy: 0.9209 - val_loss: 0.2730 - val_accuracy: 0.9213\n",
      "Epoch 58/200\n",
      "23/23 [==============================] - 0s 13ms/step - loss: 0.1999 - accuracy: 0.9209 - val_loss: 0.2607 - val_accuracy: 0.9326\n",
      "Epoch 59/200\n",
      "23/23 [==============================] - 0s 12ms/step - loss: 0.2133 - accuracy: 0.9209 - val_loss: 0.2510 - val_accuracy: 0.9326\n",
      "Epoch 60/200\n",
      "23/23 [==============================] - 0s 12ms/step - loss: 0.2287 - accuracy: 0.9294 - val_loss: 0.2513 - val_accuracy: 0.9213\n",
      "Epoch 61/200\n",
      "23/23 [==============================] - 0s 14ms/step - loss: 0.2351 - accuracy: 0.9040 - val_loss: 0.2573 - val_accuracy: 0.9213\n",
      "Epoch 62/200\n",
      "23/23 [==============================] - 0s 11ms/step - loss: 0.2013 - accuracy: 0.9181 - val_loss: 0.2452 - val_accuracy: 0.9326\n",
      "Epoch 63/200\n",
      "23/23 [==============================] - 0s 11ms/step - loss: 0.2140 - accuracy: 0.9153 - val_loss: 0.2623 - val_accuracy: 0.9101\n",
      "Epoch 64/200\n",
      "23/23 [==============================] - 0s 12ms/step - loss: 0.1967 - accuracy: 0.9266 - val_loss: 0.2528 - val_accuracy: 0.9326\n",
      "Epoch 65/200\n",
      "23/23 [==============================] - 0s 11ms/step - loss: 0.1984 - accuracy: 0.9322 - val_loss: 0.2607 - val_accuracy: 0.9213\n",
      "Epoch 66/200\n",
      "23/23 [==============================] - 0s 11ms/step - loss: 0.1854 - accuracy: 0.9266 - val_loss: 0.2437 - val_accuracy: 0.9326\n",
      "Epoch 67/200\n",
      "23/23 [==============================] - 0s 10ms/step - loss: 0.2001 - accuracy: 0.9322 - val_loss: 0.2405 - val_accuracy: 0.9326\n",
      "Epoch 68/200\n",
      "23/23 [==============================] - 0s 11ms/step - loss: 0.1794 - accuracy: 0.9520 - val_loss: 0.2452 - val_accuracy: 0.9213\n",
      "Epoch 69/200\n",
      "23/23 [==============================] - 0s 12ms/step - loss: 0.1659 - accuracy: 0.9407 - val_loss: 0.2266 - val_accuracy: 0.9326\n",
      "Epoch 70/200\n",
      "23/23 [==============================] - 0s 12ms/step - loss: 0.1539 - accuracy: 0.9463 - val_loss: 0.2208 - val_accuracy: 0.9326\n",
      "Epoch 71/200\n",
      "23/23 [==============================] - 0s 12ms/step - loss: 0.1479 - accuracy: 0.9463 - val_loss: 0.2234 - val_accuracy: 0.9438\n",
      "Epoch 72/200\n",
      "23/23 [==============================] - 0s 12ms/step - loss: 0.1807 - accuracy: 0.9435 - val_loss: 0.2105 - val_accuracy: 0.9438\n",
      "Epoch 73/200\n",
      "23/23 [==============================] - 0s 11ms/step - loss: 0.1638 - accuracy: 0.9379 - val_loss: 0.2076 - val_accuracy: 0.9213\n",
      "Epoch 74/200\n",
      "23/23 [==============================] - 0s 11ms/step - loss: 0.1537 - accuracy: 0.9435 - val_loss: 0.2156 - val_accuracy: 0.9326\n",
      "Epoch 75/200\n",
      "23/23 [==============================] - 0s 10ms/step - loss: 0.1481 - accuracy: 0.9520 - val_loss: 0.2111 - val_accuracy: 0.9326\n",
      "Epoch 76/200\n",
      "23/23 [==============================] - 0s 11ms/step - loss: 0.1567 - accuracy: 0.9463 - val_loss: 0.2160 - val_accuracy: 0.9326\n",
      "Epoch 77/200\n",
      "23/23 [==============================] - 0s 11ms/step - loss: 0.1568 - accuracy: 0.9379 - val_loss: 0.2135 - val_accuracy: 0.9213\n",
      "Epoch 78/200\n",
      "23/23 [==============================] - 0s 11ms/step - loss: 0.1402 - accuracy: 0.9548 - val_loss: 0.2131 - val_accuracy: 0.9213\n",
      "Epoch 79/200\n",
      "23/23 [==============================] - 0s 11ms/step - loss: 0.1009 - accuracy: 0.9718 - val_loss: 0.2177 - val_accuracy: 0.9213\n",
      "Epoch 80/200\n",
      "23/23 [==============================] - 0s 11ms/step - loss: 0.1624 - accuracy: 0.9435 - val_loss: 0.2241 - val_accuracy: 0.9213\n",
      "Epoch 81/200\n",
      "23/23 [==============================] - 0s 11ms/step - loss: 0.1478 - accuracy: 0.9576 - val_loss: 0.2344 - val_accuracy: 0.9213\n",
      "Epoch 82/200\n",
      "23/23 [==============================] - 0s 12ms/step - loss: 0.1379 - accuracy: 0.9520 - val_loss: 0.2093 - val_accuracy: 0.9326\n",
      "Epoch 83/200\n",
      "23/23 [==============================] - 0s 11ms/step - loss: 0.1571 - accuracy: 0.9492 - val_loss: 0.2131 - val_accuracy: 0.9326\n",
      "Epoch 84/200\n",
      "23/23 [==============================] - 0s 11ms/step - loss: 0.1643 - accuracy: 0.9266 - val_loss: 0.2083 - val_accuracy: 0.9326\n",
      "Epoch 85/200\n",
      "23/23 [==============================] - 0s 11ms/step - loss: 0.1312 - accuracy: 0.9605 - val_loss: 0.2108 - val_accuracy: 0.9326\n",
      "Epoch 86/200\n",
      "23/23 [==============================] - 0s 10ms/step - loss: 0.1672 - accuracy: 0.9407 - val_loss: 0.2246 - val_accuracy: 0.9213\n",
      "Epoch 87/200\n",
      "23/23 [==============================] - 0s 11ms/step - loss: 0.1319 - accuracy: 0.9548 - val_loss: 0.2028 - val_accuracy: 0.9326\n",
      "Epoch 88/200\n",
      "23/23 [==============================] - 0s 11ms/step - loss: 0.1364 - accuracy: 0.9492 - val_loss: 0.2205 - val_accuracy: 0.9326\n",
      "Epoch 89/200\n",
      "23/23 [==============================] - 0s 10ms/step - loss: 0.1076 - accuracy: 0.9605 - val_loss: 0.2016 - val_accuracy: 0.9213\n",
      "Epoch 90/200\n",
      "23/23 [==============================] - 0s 11ms/step - loss: 0.0994 - accuracy: 0.9746 - val_loss: 0.1963 - val_accuracy: 0.9438\n",
      "Epoch 91/200\n",
      "23/23 [==============================] - 0s 11ms/step - loss: 0.1105 - accuracy: 0.9718 - val_loss: 0.2144 - val_accuracy: 0.9326\n",
      "Epoch 92/200\n",
      "23/23 [==============================] - 0s 10ms/step - loss: 0.1078 - accuracy: 0.9661 - val_loss: 0.2076 - val_accuracy: 0.9438\n",
      "Epoch 93/200\n",
      "23/23 [==============================] - 0s 11ms/step - loss: 0.0968 - accuracy: 0.9633 - val_loss: 0.1907 - val_accuracy: 0.9438\n",
      "Epoch 94/200\n",
      "23/23 [==============================] - 0s 12ms/step - loss: 0.0916 - accuracy: 0.9689 - val_loss: 0.1812 - val_accuracy: 0.9438\n",
      "Epoch 95/200\n",
      "23/23 [==============================] - 0s 11ms/step - loss: 0.0825 - accuracy: 0.9746 - val_loss: 0.1807 - val_accuracy: 0.9438\n",
      "Epoch 96/200\n",
      "23/23 [==============================] - 0s 11ms/step - loss: 0.0932 - accuracy: 0.9689 - val_loss: 0.1852 - val_accuracy: 0.9438\n",
      "Epoch 97/200\n",
      "23/23 [==============================] - 0s 11ms/step - loss: 0.0772 - accuracy: 0.9802 - val_loss: 0.1931 - val_accuracy: 0.9438\n",
      "Epoch 98/200\n",
      "23/23 [==============================] - 0s 11ms/step - loss: 0.0787 - accuracy: 0.9718 - val_loss: 0.1864 - val_accuracy: 0.9438\n",
      "Epoch 99/200\n",
      "23/23 [==============================] - 0s 12ms/step - loss: 0.1158 - accuracy: 0.9633 - val_loss: 0.1968 - val_accuracy: 0.9438\n",
      "Epoch 100/200\n",
      "23/23 [==============================] - 0s 17ms/step - loss: 0.0973 - accuracy: 0.9718 - val_loss: 0.1751 - val_accuracy: 0.9438\n",
      "Epoch 101/200\n",
      "23/23 [==============================] - 0s 12ms/step - loss: 0.0972 - accuracy: 0.9718 - val_loss: 0.1804 - val_accuracy: 0.9551\n",
      "Epoch 102/200\n",
      "23/23 [==============================] - 0s 16ms/step - loss: 0.1062 - accuracy: 0.9576 - val_loss: 0.1736 - val_accuracy: 0.9551\n",
      "Epoch 103/200\n",
      "23/23 [==============================] - 0s 13ms/step - loss: 0.0845 - accuracy: 0.9774 - val_loss: 0.1709 - val_accuracy: 0.9438\n",
      "Epoch 104/200\n",
      "23/23 [==============================] - 0s 12ms/step - loss: 0.0993 - accuracy: 0.9689 - val_loss: 0.1744 - val_accuracy: 0.9551\n",
      "Epoch 105/200\n",
      "23/23 [==============================] - 0s 12ms/step - loss: 0.1003 - accuracy: 0.9661 - val_loss: 0.1772 - val_accuracy: 0.9551\n",
      "Epoch 106/200\n",
      "23/23 [==============================] - 0s 12ms/step - loss: 0.0695 - accuracy: 0.9774 - val_loss: 0.1749 - val_accuracy: 0.9438\n",
      "Epoch 107/200\n",
      "23/23 [==============================] - 0s 12ms/step - loss: 0.0923 - accuracy: 0.9718 - val_loss: 0.1736 - val_accuracy: 0.9438\n",
      "Epoch 108/200\n",
      "23/23 [==============================] - 0s 12ms/step - loss: 0.1269 - accuracy: 0.9435 - val_loss: 0.1751 - val_accuracy: 0.9551\n",
      "Epoch 109/200\n",
      "23/23 [==============================] - 0s 12ms/step - loss: 0.0832 - accuracy: 0.9774 - val_loss: 0.1874 - val_accuracy: 0.9438\n",
      "Epoch 110/200\n",
      "23/23 [==============================] - 0s 11ms/step - loss: 0.0670 - accuracy: 0.9859 - val_loss: 0.1756 - val_accuracy: 0.9438\n",
      "Epoch 111/200\n",
      "23/23 [==============================] - 0s 11ms/step - loss: 0.0787 - accuracy: 0.9802 - val_loss: 0.1817 - val_accuracy: 0.9438\n",
      "Epoch 112/200\n",
      "23/23 [==============================] - 0s 11ms/step - loss: 0.0778 - accuracy: 0.9718 - val_loss: 0.1806 - val_accuracy: 0.9438\n",
      "Epoch 113/200\n",
      "23/23 [==============================] - 0s 13ms/step - loss: 0.0923 - accuracy: 0.9661 - val_loss: 0.1832 - val_accuracy: 0.9438\n",
      "Epoch 114/200\n",
      "23/23 [==============================] - 0s 13ms/step - loss: 0.0659 - accuracy: 0.9831 - val_loss: 0.1815 - val_accuracy: 0.9551\n",
      "Epoch 115/200\n",
      "23/23 [==============================] - 0s 12ms/step - loss: 0.0749 - accuracy: 0.9831 - val_loss: 0.1709 - val_accuracy: 0.9438\n",
      "Epoch 116/200\n",
      "23/23 [==============================] - 0s 12ms/step - loss: 0.0494 - accuracy: 0.9887 - val_loss: 0.1789 - val_accuracy: 0.9438\n",
      "Epoch 117/200\n",
      "23/23 [==============================] - 0s 12ms/step - loss: 0.0584 - accuracy: 0.9831 - val_loss: 0.1835 - val_accuracy: 0.9438\n",
      "Epoch 118/200\n",
      "23/23 [==============================] - 0s 11ms/step - loss: 0.0538 - accuracy: 0.9831 - val_loss: 0.1867 - val_accuracy: 0.9326\n",
      "Epoch 119/200\n",
      "23/23 [==============================] - 0s 12ms/step - loss: 0.0643 - accuracy: 0.9831 - val_loss: 0.1741 - val_accuracy: 0.9551\n",
      "Epoch 120/200\n",
      "23/23 [==============================] - 0s 11ms/step - loss: 0.0601 - accuracy: 0.9859 - val_loss: 0.1824 - val_accuracy: 0.9551\n",
      "Epoch 121/200\n",
      "23/23 [==============================] - 0s 12ms/step - loss: 0.0456 - accuracy: 0.9972 - val_loss: 0.1869 - val_accuracy: 0.9438\n",
      "Epoch 122/200\n",
      "23/23 [==============================] - 0s 13ms/step - loss: 0.0644 - accuracy: 0.9774 - val_loss: 0.1771 - val_accuracy: 0.9551\n",
      "Epoch 123/200\n",
      "23/23 [==============================] - 0s 19ms/step - loss: 0.0627 - accuracy: 0.9859 - val_loss: 0.1799 - val_accuracy: 0.9438\n",
      "Epoch 124/200\n",
      "23/23 [==============================] - 0s 18ms/step - loss: 0.0541 - accuracy: 0.9944 - val_loss: 0.1767 - val_accuracy: 0.9551\n",
      "Epoch 125/200\n",
      "23/23 [==============================] - 0s 16ms/step - loss: 0.0555 - accuracy: 0.9802 - val_loss: 0.1795 - val_accuracy: 0.9438\n",
      "Epoch 126/200\n",
      "23/23 [==============================] - 0s 13ms/step - loss: 0.0563 - accuracy: 0.9831 - val_loss: 0.1770 - val_accuracy: 0.9551\n",
      "Epoch 127/200\n",
      "23/23 [==============================] - 0s 12ms/step - loss: 0.0556 - accuracy: 0.9831 - val_loss: 0.1702 - val_accuracy: 0.9663\n",
      "Epoch 128/200\n",
      "23/23 [==============================] - 0s 11ms/step - loss: 0.0410 - accuracy: 0.9915 - val_loss: 0.1640 - val_accuracy: 0.9663\n",
      "Epoch 129/200\n",
      "23/23 [==============================] - 0s 13ms/step - loss: 0.0515 - accuracy: 0.9859 - val_loss: 0.1695 - val_accuracy: 0.9551\n",
      "Epoch 130/200\n",
      "23/23 [==============================] - 0s 11ms/step - loss: 0.0586 - accuracy: 0.9802 - val_loss: 0.1713 - val_accuracy: 0.9551\n",
      "Epoch 131/200\n",
      "23/23 [==============================] - 0s 10ms/step - loss: 0.0681 - accuracy: 0.9774 - val_loss: 0.1638 - val_accuracy: 0.9551\n",
      "Epoch 132/200\n",
      "23/23 [==============================] - 0s 13ms/step - loss: 0.0652 - accuracy: 0.9831 - val_loss: 0.1619 - val_accuracy: 0.9326\n",
      "Epoch 133/200\n",
      "23/23 [==============================] - 0s 12ms/step - loss: 0.0363 - accuracy: 0.9972 - val_loss: 0.1577 - val_accuracy: 0.9438\n",
      "Epoch 134/200\n",
      "23/23 [==============================] - 0s 11ms/step - loss: 0.0516 - accuracy: 0.9831 - val_loss: 0.1517 - val_accuracy: 0.9551\n",
      "Epoch 135/200\n",
      "23/23 [==============================] - 0s 11ms/step - loss: 0.0555 - accuracy: 0.9831 - val_loss: 0.1582 - val_accuracy: 0.9551\n",
      "Epoch 136/200\n",
      "23/23 [==============================] - 0s 12ms/step - loss: 0.0603 - accuracy: 0.9774 - val_loss: 0.1687 - val_accuracy: 0.9551\n",
      "Epoch 137/200\n",
      "23/23 [==============================] - 0s 12ms/step - loss: 0.0454 - accuracy: 0.9915 - val_loss: 0.1754 - val_accuracy: 0.9551\n",
      "Epoch 138/200\n",
      "23/23 [==============================] - 0s 12ms/step - loss: 0.0314 - accuracy: 0.9944 - val_loss: 0.1739 - val_accuracy: 0.9551\n",
      "Epoch 139/200\n",
      "23/23 [==============================] - 0s 13ms/step - loss: 0.0435 - accuracy: 0.9915 - val_loss: 0.1659 - val_accuracy: 0.9551\n",
      "Epoch 140/200\n",
      "23/23 [==============================] - 0s 11ms/step - loss: 0.0375 - accuracy: 0.9915 - val_loss: 0.1699 - val_accuracy: 0.9551\n",
      "Epoch 141/200\n",
      "23/23 [==============================] - 0s 12ms/step - loss: 0.0351 - accuracy: 0.9915 - val_loss: 0.1653 - val_accuracy: 0.9551\n",
      "Epoch 142/200\n",
      "23/23 [==============================] - 0s 12ms/step - loss: 0.0387 - accuracy: 0.9887 - val_loss: 0.1602 - val_accuracy: 0.9551\n",
      "Epoch 143/200\n",
      "23/23 [==============================] - 0s 14ms/step - loss: 0.0470 - accuracy: 0.9887 - val_loss: 0.2011 - val_accuracy: 0.9326\n",
      "Epoch 144/200\n",
      "23/23 [==============================] - 0s 12ms/step - loss: 0.0540 - accuracy: 0.9831 - val_loss: 0.1601 - val_accuracy: 0.9551\n",
      "Epoch 145/200\n",
      "23/23 [==============================] - 0s 13ms/step - loss: 0.0388 - accuracy: 0.9887 - val_loss: 0.1632 - val_accuracy: 0.9551\n",
      "Epoch 146/200\n",
      "23/23 [==============================] - 0s 14ms/step - loss: 0.0382 - accuracy: 0.9915 - val_loss: 0.1697 - val_accuracy: 0.9551\n",
      "Epoch 147/200\n",
      "23/23 [==============================] - 0s 13ms/step - loss: 0.0419 - accuracy: 0.9887 - val_loss: 0.1807 - val_accuracy: 0.9438\n",
      "Epoch 148/200\n",
      "23/23 [==============================] - 0s 12ms/step - loss: 0.0334 - accuracy: 0.9915 - val_loss: 0.1791 - val_accuracy: 0.9438\n",
      "Epoch 149/200\n",
      "23/23 [==============================] - 0s 11ms/step - loss: 0.0791 - accuracy: 0.9689 - val_loss: 0.1971 - val_accuracy: 0.9326\n",
      "Epoch 150/200\n",
      "23/23 [==============================] - 0s 12ms/step - loss: 0.0518 - accuracy: 0.9859 - val_loss: 0.1824 - val_accuracy: 0.9551\n",
      "Epoch 151/200\n",
      "23/23 [==============================] - 0s 11ms/step - loss: 0.0352 - accuracy: 0.9915 - val_loss: 0.1910 - val_accuracy: 0.9551\n",
      "Epoch 152/200\n",
      "23/23 [==============================] - 0s 12ms/step - loss: 0.0256 - accuracy: 0.9972 - val_loss: 0.1696 - val_accuracy: 0.9551\n",
      "Epoch 153/200\n",
      "23/23 [==============================] - 0s 12ms/step - loss: 0.0583 - accuracy: 0.9859 - val_loss: 0.1862 - val_accuracy: 0.9551\n",
      "Epoch 154/200\n",
      "23/23 [==============================] - 0s 12ms/step - loss: 0.0326 - accuracy: 0.9944 - val_loss: 0.1769 - val_accuracy: 0.9551\n",
      "Epoch 155/200\n",
      "23/23 [==============================] - 0s 12ms/step - loss: 0.0341 - accuracy: 0.9915 - val_loss: 0.1713 - val_accuracy: 0.9551\n",
      "Epoch 156/200\n",
      "23/23 [==============================] - 0s 14ms/step - loss: 0.0302 - accuracy: 0.9972 - val_loss: 0.1612 - val_accuracy: 0.9551\n",
      "Epoch 157/200\n",
      "23/23 [==============================] - 0s 12ms/step - loss: 0.0324 - accuracy: 0.9944 - val_loss: 0.1730 - val_accuracy: 0.9551\n",
      "Epoch 158/200\n",
      "23/23 [==============================] - 0s 13ms/step - loss: 0.0456 - accuracy: 0.9859 - val_loss: 0.1809 - val_accuracy: 0.9438\n",
      "Epoch 159/200\n",
      "23/23 [==============================] - 0s 12ms/step - loss: 0.0334 - accuracy: 0.9859 - val_loss: 0.1845 - val_accuracy: 0.9326\n",
      "Epoch 160/200\n",
      "23/23 [==============================] - 0s 12ms/step - loss: 0.0375 - accuracy: 0.9887 - val_loss: 0.1782 - val_accuracy: 0.9326\n",
      "Epoch 161/200\n",
      "23/23 [==============================] - 0s 12ms/step - loss: 0.0284 - accuracy: 0.9944 - val_loss: 0.1689 - val_accuracy: 0.9551\n",
      "Epoch 162/200\n",
      "23/23 [==============================] - 0s 12ms/step - loss: 0.0226 - accuracy: 0.9944 - val_loss: 0.1711 - val_accuracy: 0.9551\n",
      "Epoch 163/200\n",
      "23/23 [==============================] - 0s 11ms/step - loss: 0.0195 - accuracy: 0.9972 - val_loss: 0.1517 - val_accuracy: 0.9551\n",
      "Epoch 164/200\n",
      "23/23 [==============================] - 0s 11ms/step - loss: 0.0314 - accuracy: 0.9915 - val_loss: 0.1500 - val_accuracy: 0.9551\n",
      "Epoch 165/200\n",
      "23/23 [==============================] - 0s 12ms/step - loss: 0.0511 - accuracy: 0.9802 - val_loss: 0.1544 - val_accuracy: 0.9438\n",
      "Epoch 166/200\n",
      "23/23 [==============================] - 0s 12ms/step - loss: 0.0433 - accuracy: 0.9831 - val_loss: 0.1654 - val_accuracy: 0.9551\n",
      "Epoch 167/200\n",
      "23/23 [==============================] - 0s 12ms/step - loss: 0.0536 - accuracy: 0.9831 - val_loss: 0.1805 - val_accuracy: 0.9551\n",
      "Epoch 168/200\n",
      "23/23 [==============================] - 0s 12ms/step - loss: 0.0313 - accuracy: 0.9887 - val_loss: 0.1624 - val_accuracy: 0.9551\n",
      "Epoch 169/200\n",
      "23/23 [==============================] - 0s 13ms/step - loss: 0.0531 - accuracy: 0.9802 - val_loss: 0.1632 - val_accuracy: 0.9551\n",
      "Epoch 170/200\n",
      "23/23 [==============================] - 0s 11ms/step - loss: 0.0352 - accuracy: 0.9831 - val_loss: 0.1548 - val_accuracy: 0.9551\n",
      "Epoch 171/200\n",
      "23/23 [==============================] - 0s 12ms/step - loss: 0.0215 - accuracy: 1.0000 - val_loss: 0.1554 - val_accuracy: 0.9551\n",
      "Epoch 172/200\n",
      "23/23 [==============================] - 0s 11ms/step - loss: 0.0179 - accuracy: 0.9972 - val_loss: 0.1513 - val_accuracy: 0.9551\n",
      "Epoch 173/200\n",
      "23/23 [==============================] - 0s 12ms/step - loss: 0.0281 - accuracy: 0.9915 - val_loss: 0.1539 - val_accuracy: 0.9551\n",
      "Epoch 174/200\n",
      "23/23 [==============================] - 0s 10ms/step - loss: 0.0212 - accuracy: 0.9944 - val_loss: 0.1542 - val_accuracy: 0.9551\n",
      "Epoch 175/200\n",
      "23/23 [==============================] - 0s 12ms/step - loss: 0.0280 - accuracy: 0.9915 - val_loss: 0.1633 - val_accuracy: 0.9551\n",
      "Epoch 176/200\n",
      "23/23 [==============================] - 0s 11ms/step - loss: 0.0164 - accuracy: 1.0000 - val_loss: 0.1647 - val_accuracy: 0.9551\n",
      "Epoch 177/200\n",
      "23/23 [==============================] - 0s 12ms/step - loss: 0.0285 - accuracy: 0.9944 - val_loss: 0.1855 - val_accuracy: 0.9551\n",
      "Epoch 178/200\n",
      "23/23 [==============================] - 0s 11ms/step - loss: 0.0225 - accuracy: 0.9972 - val_loss: 0.1790 - val_accuracy: 0.9551\n",
      "Epoch 179/200\n",
      "23/23 [==============================] - 0s 11ms/step - loss: 0.0318 - accuracy: 0.9915 - val_loss: 0.1804 - val_accuracy: 0.9551\n",
      "Epoch 180/200\n",
      "23/23 [==============================] - 0s 12ms/step - loss: 0.0124 - accuracy: 1.0000 - val_loss: 0.1605 - val_accuracy: 0.9551\n",
      "Epoch 181/200\n",
      "23/23 [==============================] - 0s 12ms/step - loss: 0.0118 - accuracy: 1.0000 - val_loss: 0.1590 - val_accuracy: 0.9551\n",
      "Epoch 182/200\n",
      "23/23 [==============================] - 0s 14ms/step - loss: 0.0271 - accuracy: 0.9915 - val_loss: 0.1583 - val_accuracy: 0.9438\n",
      "Epoch 183/200\n",
      "23/23 [==============================] - 0s 12ms/step - loss: 0.0263 - accuracy: 0.9944 - val_loss: 0.1783 - val_accuracy: 0.9551\n",
      "Epoch 184/200\n",
      "23/23 [==============================] - 0s 10ms/step - loss: 0.0195 - accuracy: 0.9944 - val_loss: 0.1824 - val_accuracy: 0.9551\n",
      "Epoch 185/200\n",
      "23/23 [==============================] - 0s 11ms/step - loss: 0.0316 - accuracy: 0.9915 - val_loss: 0.1661 - val_accuracy: 0.9551\n",
      "Epoch 186/200\n",
      "23/23 [==============================] - 0s 11ms/step - loss: 0.0143 - accuracy: 0.9972 - val_loss: 0.1517 - val_accuracy: 0.9551\n",
      "Epoch 187/200\n",
      "23/23 [==============================] - 0s 11ms/step - loss: 0.0149 - accuracy: 0.9972 - val_loss: 0.1605 - val_accuracy: 0.9551\n",
      "Epoch 188/200\n",
      "23/23 [==============================] - 0s 12ms/step - loss: 0.0209 - accuracy: 0.9944 - val_loss: 0.1578 - val_accuracy: 0.9663\n",
      "Epoch 189/200\n",
      "23/23 [==============================] - 0s 11ms/step - loss: 0.0258 - accuracy: 0.9887 - val_loss: 0.1654 - val_accuracy: 0.9551\n",
      "Epoch 190/200\n",
      "23/23 [==============================] - 0s 12ms/step - loss: 0.0233 - accuracy: 0.9944 - val_loss: 0.1708 - val_accuracy: 0.9551\n",
      "Epoch 191/200\n",
      "23/23 [==============================] - 0s 11ms/step - loss: 0.0192 - accuracy: 0.9972 - val_loss: 0.1644 - val_accuracy: 0.9551\n",
      "Epoch 192/200\n",
      "23/23 [==============================] - 0s 11ms/step - loss: 0.0163 - accuracy: 0.9972 - val_loss: 0.1667 - val_accuracy: 0.9663\n",
      "Epoch 193/200\n",
      "23/23 [==============================] - 0s 13ms/step - loss: 0.0156 - accuracy: 0.9972 - val_loss: 0.1401 - val_accuracy: 0.9551\n",
      "Epoch 194/200\n",
      "23/23 [==============================] - 0s 15ms/step - loss: 0.0152 - accuracy: 0.9972 - val_loss: 0.1474 - val_accuracy: 0.9551\n",
      "Epoch 195/200\n",
      "23/23 [==============================] - 0s 13ms/step - loss: 0.0190 - accuracy: 0.9972 - val_loss: 0.1762 - val_accuracy: 0.9551\n",
      "Epoch 196/200\n",
      "23/23 [==============================] - 0s 11ms/step - loss: 0.0173 - accuracy: 0.9972 - val_loss: 0.1658 - val_accuracy: 0.9551\n",
      "Epoch 197/200\n",
      "23/23 [==============================] - 0s 11ms/step - loss: 0.0321 - accuracy: 0.9915 - val_loss: 0.1524 - val_accuracy: 0.9775\n",
      "Epoch 198/200\n",
      "23/23 [==============================] - 0s 11ms/step - loss: 0.0210 - accuracy: 0.9915 - val_loss: 0.1478 - val_accuracy: 0.9551\n",
      "Epoch 199/200\n",
      "23/23 [==============================] - 0s 11ms/step - loss: 0.0180 - accuracy: 0.9972 - val_loss: 0.1736 - val_accuracy: 0.9551\n",
      "Epoch 200/200\n",
      "23/23 [==============================] - 0s 12ms/step - loss: 0.0224 - accuracy: 0.9944 - val_loss: 0.1622 - val_accuracy: 0.9551\n"
     ]
    }
   ],
   "source": [
    "# Train the model\n",
    "history = model_multiclass.fit(combined_features_train_reduced_reshaped, y_train_onehot, epochs=200, batch_size=16, validation_split=0.2)\n"
   ]
  },
  {
   "cell_type": "code",
   "execution_count": 36,
   "id": "61dc501b",
   "metadata": {},
   "outputs": [
    {
     "name": "stdout",
     "output_type": "stream",
     "text": [
      "4/4 [==============================] - 0s 5ms/step - loss: 0.0598 - accuracy: 0.9640\n",
      "Testing Accuracy: 0.9639639854431152\n"
     ]
    }
   ],
   "source": [
    "# Evaluate the model on the training and testing sets\n",
    "# train_loss, train_accuracy = model_multiclass.evaluate(combined_features_train_reduced_reshaped, y_train_onehot)\n",
    "test_loss, test_accuracy = model_multiclass.evaluate(combined_features_test_reduced_reshaped, y_test_onehot)\n",
    "print(\"Testing Accuracy:\", test_accuracy)"
   ]
  },
  {
   "cell_type": "code",
   "execution_count": 37,
   "id": "e50b87b3",
   "metadata": {},
   "outputs": [
    {
     "name": "stdout",
     "output_type": "stream",
     "text": [
      "Testing Accuracy: 0.9639639854431152\n"
     ]
    }
   ],
   "source": [
    "# print(\"Training Accuracy:\", train_accuracy)\n",
    "print(\"Testing Accuracy:\", test_accuracy)\n"
   ]
  },
  {
   "cell_type": "code",
   "execution_count": 38,
   "id": "7d73517a",
   "metadata": {},
   "outputs": [
    {
     "data": {
      "image/png": "[encoded data removed]",
      "text/plain": [
       "<Figure size 640x480 with 1 Axes>"
      ]
     },
     "metadata": {},
     "output_type": "display_data"
    }
   ],
   "source": [
    "# Plot training history\n",
    "plt.plot(history.history['accuracy'], label='accuracy')\n",
    "plt.plot(history.history['val_accuracy'], label = 'val_accuracy')\n",
    "plt.xlabel('Epoch')\n",
    "plt.ylabel('Accuracy')\n",
    "plt.ylim([0, 1])\n",
    "plt.legend(loc='lower right')\n",
    "plt.show()\n"
   ]
  },
  {
   "cell_type": "code",
   "execution_count": 39,
   "id": "1319d99a",
   "metadata": {},
   "outputs": [],
   "source": [
    "# Convert test labels to numerical labels\n",
    "y_test_encoded = label_encoder.transform(y_test)\n",
    "\n",
    "# Predict probabilities for test data\n",
    "y_pred_prob = model_multiclass.predict(combined_features_test_reduced_reshaped)\n",
    "\n",
    "# Convert probabilities to class labels\n",
    "y_pred = np.argmax(y_pred_prob, axis=1)\n",
    "\n",
    "# Confusion Matrix\n",
    "conf_matrix = confusion_matrix(y_test_encoded, y_pred)\n"
   ]
  },
  {
   "cell_type": "code",
   "execution_count": 40,
   "id": "94ecdf9d",
   "metadata": {},
   "outputs": [
    {
     "data": {
      "image/png": "[encoded data removed]",
      "text/plain": [
       "<Figure size 800x600 with 1 Axes>"
      ]
     },
     "metadata": {},
     "output_type": "display_data"
    }
   ],
   "source": [
    "# Plot Confusion Matrix\n",
    "plt.figure(figsize=(8, 6))\n",
    "sns.heatmap(conf_matrix, annot=True, fmt='d', cmap='Blues', cbar=False, \n",
    "            xticklabels=['CN', 'MCI', 'AD'], yticklabels=['CN', 'MCI', 'AD'])\n",
    "plt.xlabel('Predicted Labels')\n",
    "plt.ylabel('True Labels')\n",
    "plt.title('Confusion Matrix')\n",
    "plt.show()\n"
   ]
  },
  {
   "cell_type": "code",
   "execution_count": 41,
   "id": "06bc28c5",
   "metadata": {},
   "outputs": [
    {
     "name": "stdout",
     "output_type": "stream",
     "text": [
      "              precision    recall  f1-score   support\n",
      "\n",
      "          CN       1.00      0.91      0.95        11\n",
      "         MCI       0.98      0.97      0.97        60\n",
      "          AD       0.93      0.97      0.95        40\n",
      "\n",
      "    accuracy                           0.96       111\n",
      "   macro avg       0.97      0.95      0.96       111\n",
      "weighted avg       0.97      0.96      0.96       111\n",
      "\n"
     ]
    }
   ],
   "source": [
    "# Classification Report\n",
    "print(classification_report(y_test_encoded, y_pred, target_names=['CN', 'MCI', 'AD']))\n"
   ]
  },
  {
   "cell_type": "code",
   "execution_count": null,
   "id": "e91f84be",
   "metadata": {},
   "outputs": [],
   "source": []
  },
  {
   "cell_type": "code",
   "execution_count": null,
   "id": "18e15072",
   "metadata": {},
   "outputs": [],
   "source": []
  },
  {
   "cell_type": "code",
   "execution_count": null,
   "id": "c2f96a78",
   "metadata": {},
   "outputs": [],
   "source": []
  }
 ],
 "metadata": {
  "kernelspec": {
   "display_name": "Python 3 (ipykernel)",
   "language": "python",
   "name": "python3"
  },
  "language_info": {
   "codemirror_mode": {
    "name": "ipython",
    "version": 3
   },
   "file_extension": ".py",
   "mimetype": "text/x-python",
   "name": "python",
   "nbconvert_exporter": "python",
   "pygments_lexer": "ipython3",
   "version": "3.7.1"
  }
 },
 "nbformat": 4,
 "nbformat_minor": 5
}
